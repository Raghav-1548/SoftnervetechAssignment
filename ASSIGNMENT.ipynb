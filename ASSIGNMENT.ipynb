{
  "nbformat": 4,
  "nbformat_minor": 0,
  "metadata": {
    "colab": {
      "provenance": [],
      "authorship_tag": "ABX9TyNQFPANErii7BBAXJe21Yy0",
      "include_colab_link": true
    },
    "kernelspec": {
      "name": "python3",
      "display_name": "Python 3"
    },
    "language_info": {
      "name": "python"
    }
  },
  "cells": [
    {
      "cell_type": "markdown",
      "metadata": {
        "id": "view-in-github",
        "colab_type": "text"
      },
      "source": [
        "<a href=\"https://colab.research.google.com/github/Raghav-1548/SoftnervetechAssignment/blob/main/ASSIGNMENT.ipynb\" target=\"_parent\"><img src=\"https://colab.research.google.com/assets/colab-badge.svg\" alt=\"Open In Colab\"/></a>"
      ]
    },
    {
      "cell_type": "markdown",
      "source": [
        "Question 1 Solution"
      ],
      "metadata": {
        "id": "CZ83r7blhZz4"
      }
    },
    {
      "cell_type": "code",
      "source": [
        "def leader_in_array(arr):\n",
        "    n = len(arr)\n",
        "    leader = arr[n-1]\n",
        "    leaders = [leader]\n",
        "    for i in range(n-2, -1, -1):\n",
        "        if arr[i] >= leader:\n",
        "            leader = arr[i]\n",
        "            if leaders[-1] != leader:\n",
        "                leaders.append(leader)\n",
        "    return leaders[::-1]\n",
        "\n",
        "arr = [7, 10, 4, 10, 6, 5, 2]\n",
        "print(leader_in_array(arr))"
      ],
      "metadata": {
        "colab": {
          "base_uri": "https://localhost:8080/"
        },
        "id": "tFUYVagphTyI",
        "outputId": "87fa3498-2073-4436-a6cb-3db229a107f3"
      },
      "execution_count": null,
      "outputs": [
        {
          "output_type": "stream",
          "name": "stdout",
          "text": [
            "[10, 6, 5, 2]\n"
          ]
        }
      ]
    },
    {
      "cell_type": "markdown",
      "source": [
        "Question 2 Solution"
      ],
      "metadata": {
        "id": "cu5CLMI9hdVH"
      }
    },
    {
      "cell_type": "code",
      "source": [
        "def maxProfit(prices):\n",
        "    min_price = float(\"inf\")\n",
        "    max_profit = 0\n",
        "    for price in prices:\n",
        "        if price < min_price:\n",
        "            min_price = price\n",
        "        else:\n",
        "            max_profit = max(max_profit, price - min_price)\n",
        "    return max_profit\n",
        "\n",
        "prices = [7, 1, 5, 3, 6, 4]\n",
        "print(maxProfit(prices))\n",
        "\n",
        "prices = [7, 6, 4, 3, 1]\n",
        "print(maxProfit(prices))\n"
      ],
      "metadata": {
        "colab": {
          "base_uri": "https://localhost:8080/"
        },
        "id": "1sgTDqCchcl3",
        "outputId": "c3659d1f-5d5f-4b7b-e4f2-b6f803445aa8"
      },
      "execution_count": null,
      "outputs": [
        {
          "output_type": "stream",
          "name": "stdout",
          "text": [
            "5\n",
            "0\n"
          ]
        }
      ]
    },
    {
      "cell_type": "markdown",
      "source": [
        "Question 3 Solution"
      ],
      "metadata": {
        "id": "lML2eH1JhtrY"
      }
    },
    {
      "cell_type": "code",
      "source": [
        "def xor_subsets_sum(nums):\n",
        "    def helper(idx, subset_sum):\n",
        "        if idx == n:\n",
        "            return subset_sum\n",
        "        return helper(idx+1, subset_sum) + helper(idx+1, subset_sum ^ nums[idx])\n",
        "\n",
        "    n = len(nums)\n",
        "    return helper(0, 0)\n",
        "    \n",
        "nums = [1, 3]\n",
        "print(xor_subsets_sum(nums))\n",
        "\n",
        "nums = [5, 1, 6]\n",
        "print(xor_subsets_sum(nums))\n"
      ],
      "metadata": {
        "colab": {
          "base_uri": "https://localhost:8080/"
        },
        "id": "qJXyuahOhvzI",
        "outputId": "8fa2c0c7-6f15-4412-b81e-5fc6c787c231"
      },
      "execution_count": null,
      "outputs": [
        {
          "output_type": "stream",
          "name": "stdout",
          "text": [
            "6\n",
            "28\n"
          ]
        }
      ]
    }
  ]
}